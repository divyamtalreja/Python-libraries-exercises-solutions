{
  "nbformat": 4,
  "nbformat_minor": 0,
  "metadata": {
    "kernelspec": {
      "display_name": "Python 3",
      "language": "python",
      "name": "python3"
    },
    "language_info": {
      "codemirror_mode": {
        "name": "ipython",
        "version": 3
      },
      "file_extension": ".py",
      "mimetype": "text/x-python",
      "name": "python",
      "nbconvert_exporter": "python",
      "pygments_lexer": "ipython3",
      "version": "3.5.1"
    },
    "colab": {
      "name": "03-Ecommerce Purchases Exercise .ipynb",
      "provenance": []
    }
  },
  "cells": [
    {
      "cell_type": "markdown",
      "metadata": {
        "id": "EbLwOauUWPNw",
        "colab_type": "text"
      },
      "source": [
        "___\n",
        "\n",
        "<a href='http://www.pieriandata.com'> <img src='../../Pierian_Data_Logo.png' /></a>\n",
        "___\n",
        "# Ecommerce Purchases Exercise\n",
        "\n",
        "In this Exercise you will be given some Fake Data about some purchases done through Amazon! Just go ahead and follow the directions and try your best to answer the questions and complete the tasks. Feel free to reference the solutions. Most of the tasks can be solved in different ways. For the most part, the questions get progressively harder.\n",
        "\n",
        "Please excuse anything that doesn't make \"Real-World\" sense in the dataframe, all the data is fake and made-up.\n",
        "\n",
        "Also note that all of these questions can be answered with one line of code.\n",
        "____\n",
        "** Import pandas and read in the Ecommerce Purchases csv file and set it to a DataFrame called ecom. **"
      ]
    },
    {
      "cell_type": "code",
      "metadata": {
        "id": "gQj5LS_FWPN6",
        "colab_type": "code",
        "colab": {}
      },
      "source": [
        "import pandas as pd"
      ],
      "execution_count": 0,
      "outputs": []
    },
    {
      "cell_type": "code",
      "metadata": {
        "id": "SHPVEIkGXjN2",
        "colab_type": "code",
        "colab": {}
      },
      "source": [
        "ecom=pd.read_csv('/Ecommerce Purchases')"
      ],
      "execution_count": 0,
      "outputs": []
    },
    {
      "cell_type": "markdown",
      "metadata": {
        "id": "FnoM9KJLWPOZ",
        "colab_type": "text"
      },
      "source": [
        "**Check the head of the DataFrame.**"
      ]
    },
    {
      "cell_type": "code",
      "metadata": {
        "id": "TI-1AM_PWPOh",
        "colab_type": "code",
        "colab": {
          "base_uri": "https://localhost:8080/",
          "height": 598
        },
        "outputId": "a43226b8-b756-4b28-e88a-b93936d405c1"
      },
      "source": [
        "ecom.head()"
      ],
      "execution_count": 6,
      "outputs": [
        {
          "output_type": "execute_result",
          "data": {
            "text/html": [
              "<div>\n",
              "<style scoped>\n",
              "    .dataframe tbody tr th:only-of-type {\n",
              "        vertical-align: middle;\n",
              "    }\n",
              "\n",
              "    .dataframe tbody tr th {\n",
              "        vertical-align: top;\n",
              "    }\n",
              "\n",
              "    .dataframe thead th {\n",
              "        text-align: right;\n",
              "    }\n",
              "</style>\n",
              "<table border=\"1\" class=\"dataframe\">\n",
              "  <thead>\n",
              "    <tr style=\"text-align: right;\">\n",
              "      <th></th>\n",
              "      <th>Address</th>\n",
              "      <th>Lot</th>\n",
              "      <th>AM or PM</th>\n",
              "      <th>Browser Info</th>\n",
              "      <th>Company</th>\n",
              "      <th>Credit Card</th>\n",
              "      <th>CC Exp Date</th>\n",
              "      <th>CC Security Code</th>\n",
              "      <th>CC Provider</th>\n",
              "      <th>Email</th>\n",
              "      <th>Job</th>\n",
              "      <th>IP Address</th>\n",
              "      <th>Language</th>\n",
              "      <th>Purchase Price</th>\n",
              "    </tr>\n",
              "  </thead>\n",
              "  <tbody>\n",
              "    <tr>\n",
              "      <th>0</th>\n",
              "      <td>16629 Pace Camp Apt. 448\\nAlexisborough, NE 77...</td>\n",
              "      <td>46 in</td>\n",
              "      <td>PM</td>\n",
              "      <td>Opera/9.56.(X11; Linux x86_64; sl-SI) Presto/2...</td>\n",
              "      <td>Martinez-Herman</td>\n",
              "      <td>6011929061123406</td>\n",
              "      <td>02/20</td>\n",
              "      <td>900</td>\n",
              "      <td>JCB 16 digit</td>\n",
              "      <td>pdunlap@yahoo.com</td>\n",
              "      <td>Scientist, product/process development</td>\n",
              "      <td>149.146.147.205</td>\n",
              "      <td>el</td>\n",
              "      <td>98.14</td>\n",
              "    </tr>\n",
              "    <tr>\n",
              "      <th>1</th>\n",
              "      <td>9374 Jasmine Spurs Suite 508\\nSouth John, TN 8...</td>\n",
              "      <td>28 rn</td>\n",
              "      <td>PM</td>\n",
              "      <td>Opera/8.93.(Windows 98; Win 9x 4.90; en-US) Pr...</td>\n",
              "      <td>Fletcher, Richards and Whitaker</td>\n",
              "      <td>3337758169645356</td>\n",
              "      <td>11/18</td>\n",
              "      <td>561</td>\n",
              "      <td>Mastercard</td>\n",
              "      <td>anthony41@reed.com</td>\n",
              "      <td>Drilling engineer</td>\n",
              "      <td>15.160.41.51</td>\n",
              "      <td>fr</td>\n",
              "      <td>70.73</td>\n",
              "    </tr>\n",
              "    <tr>\n",
              "      <th>2</th>\n",
              "      <td>Unit 0065 Box 5052\\nDPO AP 27450</td>\n",
              "      <td>94 vE</td>\n",
              "      <td>PM</td>\n",
              "      <td>Mozilla/5.0 (compatible; MSIE 9.0; Windows NT ...</td>\n",
              "      <td>Simpson, Williams and Pham</td>\n",
              "      <td>675957666125</td>\n",
              "      <td>08/19</td>\n",
              "      <td>699</td>\n",
              "      <td>JCB 16 digit</td>\n",
              "      <td>amymiller@morales-harrison.com</td>\n",
              "      <td>Customer service manager</td>\n",
              "      <td>132.207.160.22</td>\n",
              "      <td>de</td>\n",
              "      <td>0.95</td>\n",
              "    </tr>\n",
              "    <tr>\n",
              "      <th>3</th>\n",
              "      <td>7780 Julia Fords\\nNew Stacy, WA 45798</td>\n",
              "      <td>36 vm</td>\n",
              "      <td>PM</td>\n",
              "      <td>Mozilla/5.0 (Macintosh; Intel Mac OS X 10_8_0 ...</td>\n",
              "      <td>Williams, Marshall and Buchanan</td>\n",
              "      <td>6011578504430710</td>\n",
              "      <td>02/24</td>\n",
              "      <td>384</td>\n",
              "      <td>Discover</td>\n",
              "      <td>brent16@olson-robinson.info</td>\n",
              "      <td>Drilling engineer</td>\n",
              "      <td>30.250.74.19</td>\n",
              "      <td>es</td>\n",
              "      <td>78.04</td>\n",
              "    </tr>\n",
              "    <tr>\n",
              "      <th>4</th>\n",
              "      <td>23012 Munoz Drive Suite 337\\nNew Cynthia, TX 5...</td>\n",
              "      <td>20 IE</td>\n",
              "      <td>AM</td>\n",
              "      <td>Opera/9.58.(X11; Linux x86_64; it-IT) Presto/2...</td>\n",
              "      <td>Brown, Watson and Andrews</td>\n",
              "      <td>6011456623207998</td>\n",
              "      <td>10/25</td>\n",
              "      <td>678</td>\n",
              "      <td>Diners Club / Carte Blanche</td>\n",
              "      <td>christopherwright@gmail.com</td>\n",
              "      <td>Fine artist</td>\n",
              "      <td>24.140.33.94</td>\n",
              "      <td>es</td>\n",
              "      <td>77.82</td>\n",
              "    </tr>\n",
              "  </tbody>\n",
              "</table>\n",
              "</div>"
            ],
            "text/plain": [
              "                                             Address  ... Purchase Price\n",
              "0  16629 Pace Camp Apt. 448\\nAlexisborough, NE 77...  ...          98.14\n",
              "1  9374 Jasmine Spurs Suite 508\\nSouth John, TN 8...  ...          70.73\n",
              "2                   Unit 0065 Box 5052\\nDPO AP 27450  ...           0.95\n",
              "3              7780 Julia Fords\\nNew Stacy, WA 45798  ...          78.04\n",
              "4  23012 Munoz Drive Suite 337\\nNew Cynthia, TX 5...  ...          77.82\n",
              "\n",
              "[5 rows x 14 columns]"
            ]
          },
          "metadata": {
            "tags": []
          },
          "execution_count": 6
        }
      ]
    },
    {
      "cell_type": "markdown",
      "metadata": {
        "id": "yJwsiemIWPOt",
        "colab_type": "text"
      },
      "source": [
        "** How many rows and columns are there? **"
      ]
    },
    {
      "cell_type": "code",
      "metadata": {
        "id": "DVHTSUJ8WPOw",
        "colab_type": "code",
        "colab": {
          "base_uri": "https://localhost:8080/",
          "height": 374
        },
        "outputId": "d2c32507-8fee-40a3-9e28-ff2d74423112"
      },
      "source": [
        "ecom.info()"
      ],
      "execution_count": 8,
      "outputs": [
        {
          "output_type": "stream",
          "text": [
            "<class 'pandas.core.frame.DataFrame'>\n",
            "RangeIndex: 10000 entries, 0 to 9999\n",
            "Data columns (total 14 columns):\n",
            " #   Column            Non-Null Count  Dtype  \n",
            "---  ------            --------------  -----  \n",
            " 0   Address           10000 non-null  object \n",
            " 1   Lot               10000 non-null  object \n",
            " 2   AM or PM          10000 non-null  object \n",
            " 3   Browser Info      10000 non-null  object \n",
            " 4   Company           10000 non-null  object \n",
            " 5   Credit Card       10000 non-null  int64  \n",
            " 6   CC Exp Date       10000 non-null  object \n",
            " 7   CC Security Code  10000 non-null  int64  \n",
            " 8   CC Provider       10000 non-null  object \n",
            " 9   Email             10000 non-null  object \n",
            " 10  Job               10000 non-null  object \n",
            " 11  IP Address        10000 non-null  object \n",
            " 12  Language          10000 non-null  object \n",
            " 13  Purchase Price    10000 non-null  float64\n",
            "dtypes: float64(1), int64(2), object(11)\n",
            "memory usage: 1.1+ MB\n"
          ],
          "name": "stdout"
        }
      ]
    },
    {
      "cell_type": "code",
      "metadata": {
        "id": "GtivPdw_YJDm",
        "colab_type": "code",
        "colab": {
          "base_uri": "https://localhost:8080/",
          "height": 297
        },
        "outputId": "d38a4f11-af5a-4a43-881d-2ee59baff3ca"
      },
      "source": [
        "ecom.describe()"
      ],
      "execution_count": 7,
      "outputs": [
        {
          "output_type": "execute_result",
          "data": {
            "text/html": [
              "<div>\n",
              "<style scoped>\n",
              "    .dataframe tbody tr th:only-of-type {\n",
              "        vertical-align: middle;\n",
              "    }\n",
              "\n",
              "    .dataframe tbody tr th {\n",
              "        vertical-align: top;\n",
              "    }\n",
              "\n",
              "    .dataframe thead th {\n",
              "        text-align: right;\n",
              "    }\n",
              "</style>\n",
              "<table border=\"1\" class=\"dataframe\">\n",
              "  <thead>\n",
              "    <tr style=\"text-align: right;\">\n",
              "      <th></th>\n",
              "      <th>Credit Card</th>\n",
              "      <th>CC Security Code</th>\n",
              "      <th>Purchase Price</th>\n",
              "    </tr>\n",
              "  </thead>\n",
              "  <tbody>\n",
              "    <tr>\n",
              "      <th>count</th>\n",
              "      <td>1.000000e+04</td>\n",
              "      <td>10000.000000</td>\n",
              "      <td>10000.000000</td>\n",
              "    </tr>\n",
              "    <tr>\n",
              "      <th>mean</th>\n",
              "      <td>2.341374e+15</td>\n",
              "      <td>907.217800</td>\n",
              "      <td>50.347302</td>\n",
              "    </tr>\n",
              "    <tr>\n",
              "      <th>std</th>\n",
              "      <td>2.256103e+15</td>\n",
              "      <td>1589.693035</td>\n",
              "      <td>29.015836</td>\n",
              "    </tr>\n",
              "    <tr>\n",
              "      <th>min</th>\n",
              "      <td>6.040186e+10</td>\n",
              "      <td>0.000000</td>\n",
              "      <td>0.000000</td>\n",
              "    </tr>\n",
              "    <tr>\n",
              "      <th>25%</th>\n",
              "      <td>3.056322e+13</td>\n",
              "      <td>280.000000</td>\n",
              "      <td>25.150000</td>\n",
              "    </tr>\n",
              "    <tr>\n",
              "      <th>50%</th>\n",
              "      <td>8.699942e+14</td>\n",
              "      <td>548.000000</td>\n",
              "      <td>50.505000</td>\n",
              "    </tr>\n",
              "    <tr>\n",
              "      <th>75%</th>\n",
              "      <td>4.492298e+15</td>\n",
              "      <td>816.000000</td>\n",
              "      <td>75.770000</td>\n",
              "    </tr>\n",
              "    <tr>\n",
              "      <th>max</th>\n",
              "      <td>6.012000e+15</td>\n",
              "      <td>9993.000000</td>\n",
              "      <td>99.990000</td>\n",
              "    </tr>\n",
              "  </tbody>\n",
              "</table>\n",
              "</div>"
            ],
            "text/plain": [
              "        Credit Card  CC Security Code  Purchase Price\n",
              "count  1.000000e+04      10000.000000    10000.000000\n",
              "mean   2.341374e+15        907.217800       50.347302\n",
              "std    2.256103e+15       1589.693035       29.015836\n",
              "min    6.040186e+10          0.000000        0.000000\n",
              "25%    3.056322e+13        280.000000       25.150000\n",
              "50%    8.699942e+14        548.000000       50.505000\n",
              "75%    4.492298e+15        816.000000       75.770000\n",
              "max    6.012000e+15       9993.000000       99.990000"
            ]
          },
          "metadata": {
            "tags": []
          },
          "execution_count": 7
        }
      ]
    },
    {
      "cell_type": "markdown",
      "metadata": {
        "id": "G9fO4pLPWPO9",
        "colab_type": "text"
      },
      "source": [
        "** What is the average Purchase Price? **"
      ]
    },
    {
      "cell_type": "code",
      "metadata": {
        "id": "pqZ_w_LGWPO_",
        "colab_type": "code",
        "colab": {
          "base_uri": "https://localhost:8080/",
          "height": 34
        },
        "outputId": "30f9f0d5-086c-4066-cc50-abfcd23d41cf"
      },
      "source": [
        "ecom['Purchase Price'].mean()"
      ],
      "execution_count": 9,
      "outputs": [
        {
          "output_type": "execute_result",
          "data": {
            "text/plain": [
              "50.34730200000025"
            ]
          },
          "metadata": {
            "tags": []
          },
          "execution_count": 9
        }
      ]
    },
    {
      "cell_type": "markdown",
      "metadata": {
        "id": "dR07upriWPPM",
        "colab_type": "text"
      },
      "source": [
        "** What were the highest and lowest purchase prices? **"
      ]
    },
    {
      "cell_type": "code",
      "metadata": {
        "id": "2-BC6I5dWPPP",
        "colab_type": "code",
        "colab": {
          "base_uri": "https://localhost:8080/",
          "height": 34
        },
        "outputId": "4f49787c-16da-4754-885a-2e7b3e66dfe2"
      },
      "source": [
        "ecom['Purchase Price'].max()"
      ],
      "execution_count": 10,
      "outputs": [
        {
          "output_type": "execute_result",
          "data": {
            "text/plain": [
              "99.99"
            ]
          },
          "metadata": {
            "tags": []
          },
          "execution_count": 10
        }
      ]
    },
    {
      "cell_type": "code",
      "metadata": {
        "id": "PgDDZ7AIWPPe",
        "colab_type": "code",
        "colab": {
          "base_uri": "https://localhost:8080/",
          "height": 34
        },
        "outputId": "b346ebe7-6a52-40d5-9e89-6999bab284b8"
      },
      "source": [
        "ecom['Purchase Price'].min()"
      ],
      "execution_count": 11,
      "outputs": [
        {
          "output_type": "execute_result",
          "data": {
            "text/plain": [
              "0.0"
            ]
          },
          "metadata": {
            "tags": []
          },
          "execution_count": 11
        }
      ]
    },
    {
      "cell_type": "markdown",
      "metadata": {
        "id": "zb7ks0gMWPPq",
        "colab_type": "text"
      },
      "source": [
        "** How many people have English 'en' as their Language of choice on the website? **"
      ]
    },
    {
      "cell_type": "code",
      "metadata": {
        "id": "t1zK3e1EZERU",
        "colab_type": "code",
        "colab": {}
      },
      "source": [
        "df=ecom[ecom['Language']=='en'].count()"
      ],
      "execution_count": 0,
      "outputs": []
    },
    {
      "cell_type": "code",
      "metadata": {
        "id": "_HOFsP2GWPPr",
        "colab_type": "code",
        "colab": {},
        "outputId": "41af9907-769f-4b41-d9e2-9d9da5a7f272"
      },
      "source": [
        ""
      ],
      "execution_count": 0,
      "outputs": [
        {
          "output_type": "execute_result",
          "data": {
            "text/plain": [
              "Address             1098\n",
              "Lot                 1098\n",
              "AM or PM            1098\n",
              "Browser Info        1098\n",
              "Company             1098\n",
              "Credit Card         1098\n",
              "CC Exp Date         1098\n",
              "CC Security Code    1098\n",
              "CC Provider         1098\n",
              "Email               1098\n",
              "Job                 1098\n",
              "IP Address          1098\n",
              "Language            1098\n",
              "Purchase Price      1098\n",
              "dtype: int64"
            ]
          },
          "metadata": {
            "tags": []
          },
          "execution_count": 94
        }
      ]
    },
    {
      "cell_type": "markdown",
      "metadata": {
        "id": "G_zy8TrxWPP1",
        "colab_type": "text"
      },
      "source": [
        "** How many people have the job title of \"Lawyer\" ? **\n"
      ]
    },
    {
      "cell_type": "code",
      "metadata": {
        "id": "a9k_z5N-WPP4",
        "colab_type": "code",
        "colab": {
          "base_uri": "https://localhost:8080/",
          "height": 272
        },
        "outputId": "3245bf42-b4c0-4f4b-a52e-73f6ce1ac942"
      },
      "source": [
        "ecom[ecom['Job']=='Lawyer'].count()"
      ],
      "execution_count": 18,
      "outputs": [
        {
          "output_type": "execute_result",
          "data": {
            "text/plain": [
              "Address             30\n",
              "Lot                 30\n",
              "AM or PM            30\n",
              "Browser Info        30\n",
              "Company             30\n",
              "Credit Card         30\n",
              "CC Exp Date         30\n",
              "CC Security Code    30\n",
              "CC Provider         30\n",
              "Email               30\n",
              "Job                 30\n",
              "IP Address          30\n",
              "Language            30\n",
              "Purchase Price      30\n",
              "dtype: int64"
            ]
          },
          "metadata": {
            "tags": []
          },
          "execution_count": 18
        }
      ]
    },
    {
      "cell_type": "markdown",
      "metadata": {
        "id": "AwHd4djzWPQF",
        "colab_type": "text"
      },
      "source": [
        "** How many people made the purchase during the AM and how many people made the purchase during PM ? **\n",
        "\n",
        "**(Hint: Check out [value_counts()](http://pandas.pydata.org/pandas-docs/stable/generated/pandas.Series.value_counts.html) ) **"
      ]
    },
    {
      "cell_type": "code",
      "metadata": {
        "id": "StS0tJe3WPQI",
        "colab_type": "code",
        "colab": {
          "base_uri": "https://localhost:8080/",
          "height": 68
        },
        "outputId": "9ab5b493-ca56-47da-cccb-39ca1d89ee0b"
      },
      "source": [
        "ecom['AM or PM'].value_counts()"
      ],
      "execution_count": 19,
      "outputs": [
        {
          "output_type": "execute_result",
          "data": {
            "text/plain": [
              "PM    5068\n",
              "AM    4932\n",
              "Name: AM or PM, dtype: int64"
            ]
          },
          "metadata": {
            "tags": []
          },
          "execution_count": 19
        }
      ]
    },
    {
      "cell_type": "markdown",
      "metadata": {
        "id": "09W31JpyWPQa",
        "colab_type": "text"
      },
      "source": [
        "** What are the 5 most common Job Titles? **"
      ]
    },
    {
      "cell_type": "code",
      "metadata": {
        "id": "YiV5omwaWPQc",
        "colab_type": "code",
        "colab": {
          "base_uri": "https://localhost:8080/",
          "height": 119
        },
        "outputId": "430ade03-41d0-463d-8783-da5a0b39b5ff"
      },
      "source": [
        "ecom['Job'].value_counts().head()"
      ],
      "execution_count": 33,
      "outputs": [
        {
          "output_type": "execute_result",
          "data": {
            "text/plain": [
              "Interior and spatial designer        31\n",
              "Lawyer                               30\n",
              "Social researcher                    28\n",
              "Purchasing manager                   27\n",
              "Research officer, political party    27\n",
              "Name: Job, dtype: int64"
            ]
          },
          "metadata": {
            "tags": []
          },
          "execution_count": 33
        }
      ]
    },
    {
      "cell_type": "markdown",
      "metadata": {
        "id": "ET3XT6QjWPQm",
        "colab_type": "text"
      },
      "source": [
        "** Someone made a purchase that came from Lot: \"90 WT\" , what was the Purchase Price for this transaction? **"
      ]
    },
    {
      "cell_type": "code",
      "metadata": {
        "id": "Ro5BJGh_WPQp",
        "colab_type": "code",
        "colab": {
          "base_uri": "https://localhost:8080/",
          "height": 51
        },
        "outputId": "8fe0a033-4192-4683-8736-0d306ba874ff"
      },
      "source": [
        "ecom[ecom['Lot']== '90 WT']['Purchase Price']"
      ],
      "execution_count": 43,
      "outputs": [
        {
          "output_type": "execute_result",
          "data": {
            "text/plain": [
              "513    75.1\n",
              "Name: Purchase Price, dtype: float64"
            ]
          },
          "metadata": {
            "tags": []
          },
          "execution_count": 43
        }
      ]
    },
    {
      "cell_type": "code",
      "metadata": {
        "id": "1vOkZWVHfJ4E",
        "colab_type": "code",
        "colab": {
          "base_uri": "https://localhost:8080/",
          "height": 148
        },
        "outputId": "fc8a97cd-032e-49b4-f0fd-6a2eca665617"
      },
      "source": [
        "ecom[ecom['Lot']== '90 WT']"
      ],
      "execution_count": 44,
      "outputs": [
        {
          "output_type": "execute_result",
          "data": {
            "text/html": [
              "<div>\n",
              "<style scoped>\n",
              "    .dataframe tbody tr th:only-of-type {\n",
              "        vertical-align: middle;\n",
              "    }\n",
              "\n",
              "    .dataframe tbody tr th {\n",
              "        vertical-align: top;\n",
              "    }\n",
              "\n",
              "    .dataframe thead th {\n",
              "        text-align: right;\n",
              "    }\n",
              "</style>\n",
              "<table border=\"1\" class=\"dataframe\">\n",
              "  <thead>\n",
              "    <tr style=\"text-align: right;\">\n",
              "      <th></th>\n",
              "      <th>Address</th>\n",
              "      <th>Lot</th>\n",
              "      <th>AM or PM</th>\n",
              "      <th>Browser Info</th>\n",
              "      <th>Company</th>\n",
              "      <th>Credit Card</th>\n",
              "      <th>CC Exp Date</th>\n",
              "      <th>CC Security Code</th>\n",
              "      <th>CC Provider</th>\n",
              "      <th>Email</th>\n",
              "      <th>Job</th>\n",
              "      <th>IP Address</th>\n",
              "      <th>Language</th>\n",
              "      <th>Purchase Price</th>\n",
              "    </tr>\n",
              "  </thead>\n",
              "  <tbody>\n",
              "    <tr>\n",
              "      <th>513</th>\n",
              "      <td>50398 Mccoy Rest Suite 597\\nSouth Garyborough,...</td>\n",
              "      <td>90 WT</td>\n",
              "      <td>AM</td>\n",
              "      <td>Mozilla/5.0 (iPod; U; CPU iPhone OS 3_2 like M...</td>\n",
              "      <td>Bright PLC</td>\n",
              "      <td>630438419693</td>\n",
              "      <td>11/19</td>\n",
              "      <td>173</td>\n",
              "      <td>American Express</td>\n",
              "      <td>jesse00@page.net</td>\n",
              "      <td>Energy engineer</td>\n",
              "      <td>156.70.208.94</td>\n",
              "      <td>ru</td>\n",
              "      <td>75.1</td>\n",
              "    </tr>\n",
              "  </tbody>\n",
              "</table>\n",
              "</div>"
            ],
            "text/plain": [
              "                                               Address  ... Purchase Price\n",
              "513  50398 Mccoy Rest Suite 597\\nSouth Garyborough,...  ...           75.1\n",
              "\n",
              "[1 rows x 14 columns]"
            ]
          },
          "metadata": {
            "tags": []
          },
          "execution_count": 44
        }
      ]
    },
    {
      "cell_type": "markdown",
      "metadata": {
        "id": "GCuRjy1bWPQz",
        "colab_type": "text"
      },
      "source": [
        "** What is the email of the person with the following Credit Card Number: 4926535242672853 **"
      ]
    },
    {
      "cell_type": "code",
      "metadata": {
        "id": "OBBBnrREWPQ1",
        "colab_type": "code",
        "colab": {
          "base_uri": "https://localhost:8080/",
          "height": 51
        },
        "outputId": "500d7ff6-96b0-4d55-9f64-4ce0bcae5e3b"
      },
      "source": [
        "ecom[ecom['Credit Card']==4926535242672853]['Email']"
      ],
      "execution_count": 48,
      "outputs": [
        {
          "output_type": "execute_result",
          "data": {
            "text/plain": [
              "1234    bondellen@williams-garza.com\n",
              "Name: Email, dtype: object"
            ]
          },
          "metadata": {
            "tags": []
          },
          "execution_count": 48
        }
      ]
    },
    {
      "cell_type": "markdown",
      "metadata": {
        "id": "sD6AUPO_WPRC",
        "colab_type": "text"
      },
      "source": [
        "** How many people have American Express as their Credit Card Provider *and* made a purchase above $95 ?**"
      ]
    },
    {
      "cell_type": "code",
      "metadata": {
        "id": "TRMAncqmWPRE",
        "colab_type": "code",
        "colab": {
          "base_uri": "https://localhost:8080/",
          "height": 272
        },
        "outputId": "60223701-edbe-41a8-8667-626c2a630a86"
      },
      "source": [
        "ecom[(ecom['CC Provider']=='American Express')& (ecom['Purchase Price']>95)].count()"
      ],
      "execution_count": 54,
      "outputs": [
        {
          "output_type": "execute_result",
          "data": {
            "text/plain": [
              "Address             39\n",
              "Lot                 39\n",
              "AM or PM            39\n",
              "Browser Info        39\n",
              "Company             39\n",
              "Credit Card         39\n",
              "CC Exp Date         39\n",
              "CC Security Code    39\n",
              "CC Provider         39\n",
              "Email               39\n",
              "Job                 39\n",
              "IP Address          39\n",
              "Language            39\n",
              "Purchase Price      39\n",
              "dtype: int64"
            ]
          },
          "metadata": {
            "tags": []
          },
          "execution_count": 54
        }
      ]
    },
    {
      "cell_type": "markdown",
      "metadata": {
        "id": "yUsI9uSuWPRQ",
        "colab_type": "text"
      },
      "source": [
        "** Hard: How many people have a credit card that expires in 2025? **"
      ]
    },
    {
      "cell_type": "code",
      "metadata": {
        "id": "9qSX-x7nWPRS",
        "colab_type": "code",
        "colab": {
          "base_uri": "https://localhost:8080/",
          "height": 34
        },
        "outputId": "057580ad-e3a7-4b67-a612-6aead659514b"
      },
      "source": [
        "sum(ecom['CC Exp Date'].apply(lambda exp:exp[3:]=='25'))\n"
      ],
      "execution_count": 61,
      "outputs": [
        {
          "output_type": "execute_result",
          "data": {
            "text/plain": [
              "1033"
            ]
          },
          "metadata": {
            "tags": []
          },
          "execution_count": 61
        }
      ]
    },
    {
      "cell_type": "markdown",
      "metadata": {
        "id": "WCRdbk9gWPRf",
        "colab_type": "text"
      },
      "source": [
        "** Hard: What are the top 5 most popular email providers/hosts (e.g. gmail.com, yahoo.com, etc...) **"
      ]
    },
    {
      "cell_type": "code",
      "metadata": {
        "id": "qiUGFo-FWPRh",
        "colab_type": "code",
        "colab": {
          "base_uri": "https://localhost:8080/",
          "height": 221
        },
        "outputId": "0ef59d56-daa6-48e5-f545-3631f76d9908"
      },
      "source": [
        "ecom['Email'].apply(lambda email: email.split('@'))"
      ],
      "execution_count": 69,
      "outputs": [
        {
          "output_type": "execute_result",
          "data": {
            "text/plain": [
              "0                    [pdunlap, yahoo.com]\n",
              "1                   [anthony41, reed.com]\n",
              "2       [amymiller, morales-harrison.com]\n",
              "3          [brent16, olson-robinson.info]\n",
              "4          [christopherwright, gmail.com]\n",
              "                      ...                \n",
              "9995            [iscott, wade-garner.com]\n",
              "9996                [mary85, hotmail.com]\n",
              "9997                 [tyler16, gmail.com]\n",
              "9998           [elizabethmoore, reid.net]\n",
              "9999             [rachelford, vaughn.com]\n",
              "Name: Email, Length: 10000, dtype: object"
            ]
          },
          "metadata": {
            "tags": []
          },
          "execution_count": 69
        }
      ]
    },
    {
      "cell_type": "code",
      "metadata": {
        "id": "adk53b-en-LM",
        "colab_type": "code",
        "colab": {
          "base_uri": "https://localhost:8080/",
          "height": 221
        },
        "outputId": "8eea1c5e-f4fe-45dd-ca42-275f4dadad51"
      },
      "source": [
        "ecom['Email'].apply(lambda email: email.split('@')[1])"
      ],
      "execution_count": 70,
      "outputs": [
        {
          "output_type": "execute_result",
          "data": {
            "text/plain": [
              "0                  yahoo.com\n",
              "1                   reed.com\n",
              "2       morales-harrison.com\n",
              "3        olson-robinson.info\n",
              "4                  gmail.com\n",
              "                ...         \n",
              "9995         wade-garner.com\n",
              "9996             hotmail.com\n",
              "9997               gmail.com\n",
              "9998                reid.net\n",
              "9999              vaughn.com\n",
              "Name: Email, Length: 10000, dtype: object"
            ]
          },
          "metadata": {
            "tags": []
          },
          "execution_count": 70
        }
      ]
    },
    {
      "cell_type": "code",
      "metadata": {
        "id": "9v_DAVOooC9J",
        "colab_type": "code",
        "colab": {
          "base_uri": "https://localhost:8080/",
          "height": 221
        },
        "outputId": "5b3b83db-25eb-43b1-f52d-b4c2a52ab988"
      },
      "source": [
        "ecom['Email'].apply(lambda email: email.split('@')[1]).value_counts()"
      ],
      "execution_count": 71,
      "outputs": [
        {
          "output_type": "execute_result",
          "data": {
            "text/plain": [
              "hotmail.com            1638\n",
              "yahoo.com              1616\n",
              "gmail.com              1605\n",
              "smith.com                42\n",
              "williams.com             37\n",
              "                       ... \n",
              "marshall.info             1\n",
              "kent.net                  1\n",
              "nelson-alvarado.com       1\n",
              "lang.biz                  1\n",
              "wood.info                 1\n",
              "Name: Email, Length: 3416, dtype: int64"
            ]
          },
          "metadata": {
            "tags": []
          },
          "execution_count": 71
        }
      ]
    },
    {
      "cell_type": "code",
      "metadata": {
        "id": "DSEtwJwboIza",
        "colab_type": "code",
        "colab": {
          "base_uri": "https://localhost:8080/",
          "height": 119
        },
        "outputId": "46b801c9-af1f-48c8-fe7c-496bd7d2e944"
      },
      "source": [
        "ecom['Email'].apply(lambda email: email.split('@')[1]).value_counts().head()"
      ],
      "execution_count": 72,
      "outputs": [
        {
          "output_type": "execute_result",
          "data": {
            "text/plain": [
              "hotmail.com     1638\n",
              "yahoo.com       1616\n",
              "gmail.com       1605\n",
              "smith.com         42\n",
              "williams.com      37\n",
              "Name: Email, dtype: int64"
            ]
          },
          "metadata": {
            "tags": []
          },
          "execution_count": 72
        }
      ]
    },
    {
      "cell_type": "markdown",
      "metadata": {
        "id": "yjilWE-UWPRr",
        "colab_type": "text"
      },
      "source": [
        "# Great Job!"
      ]
    },
    {
      "cell_type": "code",
      "metadata": {
        "id": "PcHsRg_ooBTC",
        "colab_type": "code",
        "colab": {}
      },
      "source": [
        ""
      ],
      "execution_count": 0,
      "outputs": []
    }
  ]
}